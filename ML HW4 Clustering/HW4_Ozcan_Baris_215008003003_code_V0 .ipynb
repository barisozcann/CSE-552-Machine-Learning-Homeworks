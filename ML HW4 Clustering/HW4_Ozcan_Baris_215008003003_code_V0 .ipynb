{
  "cells": [
    {
      "cell_type": "code",
      "execution_count": 1,
      "metadata": {
        "id": "_7Fq2_uqIS1r"
      },
      "outputs": [],
      "source": [
        "import matplotlib.pyplot as plt\n",
        "import tensorflow as tf\n",
        "import numpy as np\n",
        "import pandas as pd\n",
        "from tensorflow import keras"
      ]
    },
    {
      "cell_type": "code",
      "execution_count": 2,
      "metadata": {
        "id": "XiGVRgcLIm8H",
        "colab": {
          "base_uri": "https://localhost:8080/"
        },
        "outputId": "d8b11c4c-7b53-440c-bca5-41a57bf16555"
      },
      "outputs": [
        {
          "output_type": "execute_result",
          "data": {
            "text/plain": [
              "((array([[[0, 0, 0, ..., 0, 0, 0],\n",
              "          [0, 0, 0, ..., 0, 0, 0],\n",
              "          [0, 0, 0, ..., 0, 0, 0],\n",
              "          ...,\n",
              "          [0, 0, 0, ..., 0, 0, 0],\n",
              "          [0, 0, 0, ..., 0, 0, 0],\n",
              "          [0, 0, 0, ..., 0, 0, 0]],\n",
              "  \n",
              "         [[0, 0, 0, ..., 0, 0, 0],\n",
              "          [0, 0, 0, ..., 0, 0, 0],\n",
              "          [0, 0, 0, ..., 0, 0, 0],\n",
              "          ...,\n",
              "          [0, 0, 0, ..., 0, 0, 0],\n",
              "          [0, 0, 0, ..., 0, 0, 0],\n",
              "          [0, 0, 0, ..., 0, 0, 0]],\n",
              "  \n",
              "         [[0, 0, 0, ..., 0, 0, 0],\n",
              "          [0, 0, 0, ..., 0, 0, 0],\n",
              "          [0, 0, 0, ..., 0, 0, 0],\n",
              "          ...,\n",
              "          [0, 0, 0, ..., 0, 0, 0],\n",
              "          [0, 0, 0, ..., 0, 0, 0],\n",
              "          [0, 0, 0, ..., 0, 0, 0]],\n",
              "  \n",
              "         ...,\n",
              "  \n",
              "         [[0, 0, 0, ..., 0, 0, 0],\n",
              "          [0, 0, 0, ..., 0, 0, 0],\n",
              "          [0, 0, 0, ..., 0, 0, 0],\n",
              "          ...,\n",
              "          [0, 0, 0, ..., 0, 0, 0],\n",
              "          [0, 0, 0, ..., 0, 0, 0],\n",
              "          [0, 0, 0, ..., 0, 0, 0]],\n",
              "  \n",
              "         [[0, 0, 0, ..., 0, 0, 0],\n",
              "          [0, 0, 0, ..., 0, 0, 0],\n",
              "          [0, 0, 0, ..., 0, 0, 0],\n",
              "          ...,\n",
              "          [0, 0, 0, ..., 0, 0, 0],\n",
              "          [0, 0, 0, ..., 0, 0, 0],\n",
              "          [0, 0, 0, ..., 0, 0, 0]],\n",
              "  \n",
              "         [[0, 0, 0, ..., 0, 0, 0],\n",
              "          [0, 0, 0, ..., 0, 0, 0],\n",
              "          [0, 0, 0, ..., 0, 0, 0],\n",
              "          ...,\n",
              "          [0, 0, 0, ..., 0, 0, 0],\n",
              "          [0, 0, 0, ..., 0, 0, 0],\n",
              "          [0, 0, 0, ..., 0, 0, 0]]], dtype=uint8),\n",
              "  array([5, 0, 4, ..., 5, 6, 8], dtype=uint8)),\n",
              " (array([[[0, 0, 0, ..., 0, 0, 0],\n",
              "          [0, 0, 0, ..., 0, 0, 0],\n",
              "          [0, 0, 0, ..., 0, 0, 0],\n",
              "          ...,\n",
              "          [0, 0, 0, ..., 0, 0, 0],\n",
              "          [0, 0, 0, ..., 0, 0, 0],\n",
              "          [0, 0, 0, ..., 0, 0, 0]],\n",
              "  \n",
              "         [[0, 0, 0, ..., 0, 0, 0],\n",
              "          [0, 0, 0, ..., 0, 0, 0],\n",
              "          [0, 0, 0, ..., 0, 0, 0],\n",
              "          ...,\n",
              "          [0, 0, 0, ..., 0, 0, 0],\n",
              "          [0, 0, 0, ..., 0, 0, 0],\n",
              "          [0, 0, 0, ..., 0, 0, 0]],\n",
              "  \n",
              "         [[0, 0, 0, ..., 0, 0, 0],\n",
              "          [0, 0, 0, ..., 0, 0, 0],\n",
              "          [0, 0, 0, ..., 0, 0, 0],\n",
              "          ...,\n",
              "          [0, 0, 0, ..., 0, 0, 0],\n",
              "          [0, 0, 0, ..., 0, 0, 0],\n",
              "          [0, 0, 0, ..., 0, 0, 0]],\n",
              "  \n",
              "         ...,\n",
              "  \n",
              "         [[0, 0, 0, ..., 0, 0, 0],\n",
              "          [0, 0, 0, ..., 0, 0, 0],\n",
              "          [0, 0, 0, ..., 0, 0, 0],\n",
              "          ...,\n",
              "          [0, 0, 0, ..., 0, 0, 0],\n",
              "          [0, 0, 0, ..., 0, 0, 0],\n",
              "          [0, 0, 0, ..., 0, 0, 0]],\n",
              "  \n",
              "         [[0, 0, 0, ..., 0, 0, 0],\n",
              "          [0, 0, 0, ..., 0, 0, 0],\n",
              "          [0, 0, 0, ..., 0, 0, 0],\n",
              "          ...,\n",
              "          [0, 0, 0, ..., 0, 0, 0],\n",
              "          [0, 0, 0, ..., 0, 0, 0],\n",
              "          [0, 0, 0, ..., 0, 0, 0]],\n",
              "  \n",
              "         [[0, 0, 0, ..., 0, 0, 0],\n",
              "          [0, 0, 0, ..., 0, 0, 0],\n",
              "          [0, 0, 0, ..., 0, 0, 0],\n",
              "          ...,\n",
              "          [0, 0, 0, ..., 0, 0, 0],\n",
              "          [0, 0, 0, ..., 0, 0, 0],\n",
              "          [0, 0, 0, ..., 0, 0, 0]]], dtype=uint8),\n",
              "  array([7, 2, 1, ..., 4, 5, 6], dtype=uint8)))"
            ]
          },
          "metadata": {},
          "execution_count": 2
        }
      ],
      "source": [
        "tf.keras.datasets.mnist.load_data(path=\"mnist.npz\")"
      ]
    },
    {
      "cell_type": "code",
      "execution_count": 3,
      "metadata": {
        "colab": {
          "base_uri": "https://localhost:8080/"
        },
        "id": "48lyon8wInyN",
        "outputId": "a2c512ad-e229-4728-8a13-87f1fc80ce8f"
      },
      "outputs": [
        {
          "output_type": "stream",
          "name": "stdout",
          "text": [
            "Training: (60000, 28, 28)\n",
            "Test: (10000, 28, 28)\n"
          ]
        }
      ],
      "source": [
        "(X_train, y_train), (X_test, y_test) = keras.datasets.mnist.load_data()\n",
        "# Print shape of dataset\n",
        "print(\"Training: {}\".format(X_train.shape))\n",
        "print(\"Test: {}\".format(X_test.shape))"
      ]
    },
    {
      "cell_type": "code",
      "source": [
        "# create figure with 3x3 subplots using matplotlib.pyplot\n",
        "fig, axs = plt.subplots(3, 3, figsize = (12, 12))\n",
        "plt.gray()\n",
        "\n",
        "# loop through subplots and add mnist images\n",
        "for i, ax in enumerate(axs.flat):\n",
        "    ax.matshow(X_train[i])\n",
        "    ax.axis('off')\n",
        "    ax.set_title('Number {}'.format(y_train[i]))\n",
        "    \n",
        "# display the figure\n",
        "fig.show()"
      ],
      "metadata": {
        "colab": {
          "base_uri": "https://localhost:8080/",
          "height": 709
        },
        "id": "I0exG86ksEvq",
        "outputId": "f3b61e58-371d-41a4-ec34-23009c03cad9"
      },
      "execution_count": 4,
      "outputs": [
        {
          "output_type": "display_data",
          "data": {
            "text/plain": [
              "<Figure size 864x864 with 9 Axes>"
            ],
            "image/png": "[encoded data removed]"
          },
          "metadata": {
            "needs_background": "light"
          }
        }
      ]
    },
    {
      "cell_type": "code",
      "execution_count": 5,
      "metadata": {
        "id": "ba8uKUkUInvh",
        "colab": {
          "base_uri": "https://localhost:8080/"
        },
        "outputId": "9dad8378-b162-49fe-b129-15e7002938a2"
      },
      "outputs": [
        {
          "output_type": "execute_result",
          "data": {
            "text/plain": [
              "array([[[0, 0, 0, ..., 0, 0, 0],\n",
              "        [0, 0, 0, ..., 0, 0, 0],\n",
              "        [0, 0, 0, ..., 0, 0, 0],\n",
              "        ...,\n",
              "        [0, 0, 0, ..., 0, 0, 0],\n",
              "        [0, 0, 0, ..., 0, 0, 0],\n",
              "        [0, 0, 0, ..., 0, 0, 0]],\n",
              "\n",
              "       [[0, 0, 0, ..., 0, 0, 0],\n",
              "        [0, 0, 0, ..., 0, 0, 0],\n",
              "        [0, 0, 0, ..., 0, 0, 0],\n",
              "        ...,\n",
              "        [0, 0, 0, ..., 0, 0, 0],\n",
              "        [0, 0, 0, ..., 0, 0, 0],\n",
              "        [0, 0, 0, ..., 0, 0, 0]],\n",
              "\n",
              "       [[0, 0, 0, ..., 0, 0, 0],\n",
              "        [0, 0, 0, ..., 0, 0, 0],\n",
              "        [0, 0, 0, ..., 0, 0, 0],\n",
              "        ...,\n",
              "        [0, 0, 0, ..., 0, 0, 0],\n",
              "        [0, 0, 0, ..., 0, 0, 0],\n",
              "        [0, 0, 0, ..., 0, 0, 0]],\n",
              "\n",
              "       [[0, 0, 0, ..., 0, 0, 0],\n",
              "        [0, 0, 0, ..., 0, 0, 0],\n",
              "        [0, 0, 0, ..., 0, 0, 0],\n",
              "        ...,\n",
              "        [0, 0, 0, ..., 0, 0, 0],\n",
              "        [0, 0, 0, ..., 0, 0, 0],\n",
              "        [0, 0, 0, ..., 0, 0, 0]],\n",
              "\n",
              "       [[0, 0, 0, ..., 0, 0, 0],\n",
              "        [0, 0, 0, ..., 0, 0, 0],\n",
              "        [0, 0, 0, ..., 0, 0, 0],\n",
              "        ...,\n",
              "        [0, 0, 0, ..., 0, 0, 0],\n",
              "        [0, 0, 0, ..., 0, 0, 0],\n",
              "        [0, 0, 0, ..., 0, 0, 0]]], dtype=uint8)"
            ]
          },
          "metadata": {},
          "execution_count": 5
        }
      ],
      "source": [
        "X_train[0:5]"
      ]
    },
    {
      "cell_type": "code",
      "execution_count": 6,
      "metadata": {
        "id": "L0mDjBzXIntH",
        "colab": {
          "base_uri": "https://localhost:8080/"
        },
        "outputId": "b066393f-63da-4ba9-fc08-6103ee3bd638"
      },
      "outputs": [
        {
          "output_type": "execute_result",
          "data": {
            "text/plain": [
              "array([5, 0, 4, 1, 9], dtype=uint8)"
            ]
          },
          "metadata": {},
          "execution_count": 6
        }
      ],
      "source": [
        "y_train[0:5]"
      ]
    },
    {
      "cell_type": "markdown",
      "source": [
        "## Preprocessing"
      ],
      "metadata": {
        "id": "eT8b1F6osVtL"
      }
    },
    {
      "cell_type": "code",
      "source": [
        "# Convert each image to 1d array (28x28 -> 784x1)\n",
        "X_train = X_train.reshape(len(X_train), -1)\n",
        "print(X_train.shape)"
      ],
      "metadata": {
        "colab": {
          "base_uri": "https://localhost:8080/"
        },
        "id": "ZPSe3nYNsYqx",
        "outputId": "f7245400-166f-4227-f2f8-8f53cb9ad0f4"
      },
      "execution_count": 7,
      "outputs": [
        {
          "output_type": "stream",
          "name": "stdout",
          "text": [
            "(60000, 784)\n"
          ]
        }
      ]
    },
    {
      "cell_type": "markdown",
      "source": [
        "## Normalization"
      ],
      "metadata": {
        "id": "u_tUoeNasoYK"
      }
    },
    {
      "cell_type": "code",
      "source": [
        "# Normalize the data to 0 - 1\n",
        "X_train = X_train.astype(np.float32) / 255."
      ],
      "metadata": {
        "id": "KKaHRNHXsqmd"
      },
      "execution_count": 8,
      "outputs": []
    },
    {
      "cell_type": "markdown",
      "metadata": {
        "id": "_B2O7VPSI6kQ"
      },
      "source": [
        "# Part 1"
      ]
    },
    {
      "cell_type": "code",
      "execution_count": 9,
      "metadata": {
        "id": "8JZ-rVw0I8pX"
      },
      "outputs": [],
      "source": [
        "from sklearn.decomposition import PCA"
      ]
    },
    {
      "cell_type": "code",
      "execution_count": 10,
      "metadata": {
        "id": "Q0J-GQPkRGfg"
      },
      "outputs": [],
      "source": [
        "pca = PCA(n_components = 2)\n",
        "X_train_2D=pca.fit_transform(X_train)\n",
        "\n",
        "X_test = X_test.reshape(len(X_test), -1)\n",
        "X_test = X_test.astype(np.float32) / 255.\n",
        "X_test_2D=pca.fit_transform(X_test)\n",
        "\n"
      ]
    },
    {
      "cell_type": "code",
      "execution_count": 11,
      "metadata": {
        "id": "mO6fwJ_rNA94",
        "colab": {
          "base_uri": "https://localhost:8080/"
        },
        "outputId": "e1333453-f052-4b05-f46f-0928e15559a0"
      },
      "outputs": [
        {
          "output_type": "execute_result",
          "data": {
            "text/plain": [
              "(60000, 2)"
            ]
          },
          "metadata": {},
          "execution_count": 11
        }
      ],
      "source": [
        "X_train_2D.shape"
      ]
    },
    {
      "cell_type": "code",
      "execution_count": 12,
      "metadata": {
        "id": "3gPNqUYZPoW8",
        "colab": {
          "base_uri": "https://localhost:8080/"
        },
        "outputId": "9ff33320-b6e8-4bfa-8832-20d09d0ae6f7"
      },
      "outputs": [
        {
          "output_type": "execute_result",
          "data": {
            "text/plain": [
              "array([ 0.48596266, -1.2261755 ], dtype=float32)"
            ]
          },
          "metadata": {},
          "execution_count": 12
        }
      ],
      "source": [
        "X_train_2D[0]"
      ]
    },
    {
      "cell_type": "code",
      "execution_count": 13,
      "metadata": {
        "id": "n0JpY8ttPf-b",
        "colab": {
          "base_uri": "https://localhost:8080/"
        },
        "outputId": "18284db6-32a6-4c66-9426-91ec96e1710e"
      },
      "outputs": [
        {
          "output_type": "execute_result",
          "data": {
            "text/plain": [
              "(10000, 2)"
            ]
          },
          "metadata": {},
          "execution_count": 13
        }
      ],
      "source": [
        "X_test_2D.shape"
      ]
    },
    {
      "cell_type": "markdown",
      "source": [
        "## Comment"
      ],
      "metadata": {
        "id": "VMzXa5Exy2dP"
      }
    },
    {
      "cell_type": "markdown",
      "source": [
        "I used Python's PCA library from Sci-Kit Learn library so that i can reduce to dimension from 28x28 to 28x2"
      ],
      "metadata": {
        "id": "USs6_nC0uP6a"
      }
    },
    {
      "cell_type": "markdown",
      "source": [
        "# Part 2"
      ],
      "metadata": {
        "id": "YgM9BpgvME1_"
      }
    },
    {
      "cell_type": "code",
      "source": [
        "from scipy.spatial.distance import cdist\n",
        "from sklearn.metrics import confusion_matrix #Confusion matrix function from scikit learn library\n",
        "from sklearn.metrics import classification_report #Special library for getting classification report as a table\n",
        "from sklearn import metrics"
      ],
      "metadata": {
        "id": "9WjXA88F1wHH"
      },
      "execution_count": 14,
      "outputs": []
    },
    {
      "cell_type": "code",
      "source": [
        "#Defining our function \n",
        "def kmeans(x,k, no_of_iterations,distance='euclidean'):\n",
        "    idx = np.random.choice(len(x), k, replace=False)\n",
        "    #print(idx)\n",
        "    #Randomly choosing Centroids \n",
        "    centroids = x[idx, :] #Step 1\n",
        "    #print(centroids)\n",
        "     \n",
        "    #finding the distance between centroids and all the data points\n",
        "    distances = cdist(x, centroids ,distance) #Step 2\n",
        "    #print(len(distances))\n",
        "     \n",
        "    #Centroid with the minimum Distance\n",
        "    points = np.array([np.argmin(i) for i in distances]) #Step 3\n",
        "     \n",
        "    #Repeating the above steps for a defined number of iterations\n",
        "    #Step 4\n",
        "    for _ in range(no_of_iterations): \n",
        "        centroids = []\n",
        "        for idx in range(k):\n",
        "            #Updating Centroids by taking mean of Cluster it belongs to\n",
        "            temp_cent = x[points==idx].mean(axis=0) \n",
        "            centroids.append(temp_cent)\n",
        " \n",
        "        centroids = np.vstack(centroids) #Updated Centroids \n",
        "         \n",
        "        distances = cdist(x, centroids ,distance)\n",
        "        #print(distances[_])\n",
        "        points = np.array([np.argmin(i) for i in distances])\n",
        "         \n",
        "    return points"
      ],
      "metadata": {
        "id": "cCTf_2dL1QS2"
      },
      "execution_count": 15,
      "outputs": []
    },
    {
      "cell_type": "markdown",
      "source": [
        "## Euclidean Distance"
      ],
      "metadata": {
        "id": "94OXS5QNspFS"
      }
    },
    {
      "cell_type": "code",
      "source": [
        "#Applying our function\n",
        "y_pred = kmeans(X_train_2D,10,1000,'euclidean')"
      ],
      "metadata": {
        "id": "FX6HXgmt15Rc"
      },
      "execution_count": 16,
      "outputs": []
    },
    {
      "cell_type": "code",
      "source": [
        "#report=classification_report(y_train, y_pred) #Preparing classification report\n",
        "#print(report)\n",
        "conf_matrix = pd.DataFrame(confusion_matrix(y_train, y_pred), index=['Label:0', 'Label:1','Label:2','Label:3','Label:4', 'Label:5','Label:6','Label:7', 'Label:8','Label:9'], columns=['Cluster:0','Cluster:1', 'Cluster:2', 'Cluster:3','Cluster:4', 'Cluster:5', 'Cluster:6','Cluster:7', 'Cluster:8', 'Cluster:9']) #COnfusion Matrix of each K-fold Step\n",
        "print(conf_matrix)\n",
        "#print('Accuracy:% ',(metrics.accuracy_score(y_train, y_pred)*100))"
      ],
      "metadata": {
        "colab": {
          "base_uri": "https://localhost:8080/"
        },
        "id": "ofnvisw02XJu",
        "outputId": "e289a020-5177-4723-9f17-96fb33f5258f"
      },
      "execution_count": 17,
      "outputs": [
        {
          "output_type": "stream",
          "name": "stdout",
          "text": [
            "         Cluster:0  Cluster:1  Cluster:2  Cluster:3  Cluster:4  Cluster:5  \\\n",
            "Label:0          9         98          1         25       2929       2170   \n",
            "Label:1          7          0       5664        933          0          0   \n",
            "Label:2        189         47        135        524        103       1025   \n",
            "Label:3        111         15         63        567         54        294   \n",
            "Label:4       1910       1233         16        485          4         17   \n",
            "Label:5        299        144         48        982        111        847   \n",
            "Label:6        166        640        102        678        107       1140   \n",
            "Label:7       2517        450         76        679          0          3   \n",
            "Label:8        172        139        163        810         73        569   \n",
            "Label:9       2158        780         26        589         20         43   \n",
            "\n",
            "         Cluster:6  Cluster:7  Cluster:8  Cluster:9  \n",
            "Label:0         27        508        151          5  \n",
            "Label:1        120         18          0          0  \n",
            "Label:2       1485       1517        904         29  \n",
            "Label:3       2081        671       2260         15  \n",
            "Label:4          2        191          1       1983  \n",
            "Label:5        594       1555        737        104  \n",
            "Label:6        676       2193        132         84  \n",
            "Label:7         18        156          0       2366  \n",
            "Label:8       1809       1605        442         69  \n",
            "Label:9         12        174          7       2140  \n"
          ]
        }
      ]
    },
    {
      "cell_type": "code",
      "source": [
        "def clusters_to_labels(confusion_matrix):\n",
        "  marked_clusters_number=0\n",
        "  cf=confusion_matrix.values\n",
        "  marked_values=np.zeros((10,10))\n",
        "  real_labels=np.zeros(10)\n",
        "  marked_labels=[]\n",
        "  marked_clusters=[]\n",
        "\n",
        "  while marked_clusters_number is not 10:\n",
        "    flat=cf.flatten()\n",
        "    flat.sort()\n",
        "    for i in range(1,100):\n",
        "      largest=flat[-i]\n",
        "      #print(largest)\n",
        "      rows, cols=np.where(cf==largest) #Row and Column information of nth largest element in confusion matrix\n",
        "      #print(rows[0],',',cols[0])\n",
        "      #print(cf[rows[0]][cols[0]])\n",
        "      if((cols[0] not in marked_clusters) and (rows[0] not in marked_labels)):\n",
        "        marked_clusters.append(cols[0])\n",
        "        marked_labels.append(rows[0])\n",
        "        real_labels[cols[0]]=rows[0]\n",
        "        marked_clusters_number=marked_clusters_number+1\n",
        "        print('Cluster',cols[0],' = Label',rows[0])\n",
        "      if(marked_clusters_number is 10):\n",
        "        break\n",
        "      #print(marked_values[rows[0]],',,',marked_values[:][cols[0]])\n",
        "      #print(marked_clusters_number)\n",
        "      #print(i)\n",
        "      #print(marked_values)\n",
        "      #print(real_labels)\n",
        "      \n",
        "  return real_labels"
      ],
      "metadata": {
        "id": "oEHd1K8x-HpP"
      },
      "execution_count": 18,
      "outputs": []
    },
    {
      "cell_type": "code",
      "source": [
        "labels=clusters_to_labels(conf_matrix)\n",
        "labels"
      ],
      "metadata": {
        "colab": {
          "base_uri": "https://localhost:8080/"
        },
        "id": "hVyGNom_sL7L",
        "outputId": "013ac1f0-77c8-49c2-b5e1-4530724f2000"
      },
      "execution_count": 19,
      "outputs": [
        {
          "output_type": "stream",
          "name": "stdout",
          "text": [
            "Cluster 2  = Label 1\n",
            "Cluster 4  = Label 0\n",
            "Cluster 0  = Label 7\n",
            "Cluster 8  = Label 3\n",
            "Cluster 7  = Label 6\n",
            "Cluster 9  = Label 9\n",
            "Cluster 6  = Label 8\n",
            "Cluster 1  = Label 4\n",
            "Cluster 5  = Label 2\n",
            "Cluster 3  = Label 5\n"
          ]
        },
        {
          "output_type": "execute_result",
          "data": {
            "text/plain": [
              "array([7., 4., 1., 5., 0., 2., 8., 6., 3., 9.])"
            ]
          },
          "metadata": {},
          "execution_count": 19
        }
      ]
    },
    {
      "cell_type": "code",
      "source": [
        "def match_clusters(y_pred,cf):\n",
        "  real_labels=clusters_to_labels(cf)\n",
        "  print(real_labels)\n",
        "  for i in range(len(real_labels)):\n",
        "    indices=y_pred[y_pred==i]\n",
        "    y_pred[indices]=real_labels[i]\n",
        "  return y_pred\n",
        "\n"
      ],
      "metadata": {
        "id": "0tGvoYexkoMp"
      },
      "execution_count": 20,
      "outputs": []
    },
    {
      "cell_type": "code",
      "source": [
        "y_pred=match_clusters(y_pred,conf_matrix)"
      ],
      "metadata": {
        "colab": {
          "base_uri": "https://localhost:8080/"
        },
        "id": "edwTJYEUsObv",
        "outputId": "0bd11779-a0ef-49a5-b2ac-07c74a404b5b"
      },
      "execution_count": 21,
      "outputs": [
        {
          "output_type": "stream",
          "name": "stdout",
          "text": [
            "Cluster 2  = Label 1\n",
            "Cluster 4  = Label 0\n",
            "Cluster 0  = Label 7\n",
            "Cluster 8  = Label 3\n",
            "Cluster 7  = Label 6\n",
            "Cluster 9  = Label 9\n",
            "Cluster 6  = Label 8\n",
            "Cluster 1  = Label 4\n",
            "Cluster 5  = Label 2\n",
            "Cluster 3  = Label 5\n",
            "[7. 4. 1. 5. 0. 2. 8. 6. 3. 9.]\n"
          ]
        }
      ]
    },
    {
      "cell_type": "code",
      "source": [
        "print('Accuracy:% ',(metrics.accuracy_score(y_train, y_pred)*100))\n",
        "cf = pd.DataFrame(confusion_matrix(y_train, y_pred), index=['Label:0', 'Label:1','Label:2','Label:3','Label:4', 'Label:5','Label:6','Label:7', 'Label:8','Label:9'], columns=['Cluster:0','Cluster:1', 'Cluster:2', 'Cluster:3','Cluster:4', 'Cluster:5', 'Cluster:6','Cluster:7', 'Cluster:8', 'Cluster:9']) #COnfusion Matrix of each K-fold Step\n",
        "print(cf)"
      ],
      "metadata": {
        "colab": {
          "base_uri": "https://localhost:8080/"
        },
        "id": "lwVB7w1GmTt-",
        "outputId": "cfc51d7c-5029-4728-8796-6ee7b4eac148"
      },
      "execution_count": 22,
      "outputs": [
        {
          "output_type": "stream",
          "name": "stdout",
          "text": [
            "Accuracy:%  8.295\n",
            "         Cluster:0  Cluster:1  Cluster:2  Cluster:3  Cluster:4  Cluster:5  \\\n",
            "Label:0          9         98          1         25       2929       2170   \n",
            "Label:1          7          0       5663        932          0          1   \n",
            "Label:2        189         47        136        524        103       1025   \n",
            "Label:3        111         15         63        567         54        293   \n",
            "Label:4       1908       1234         16        485          4         17   \n",
            "Label:5        299        144         48        982        111        847   \n",
            "Label:6        166        640        102        678        107       1140   \n",
            "Label:7       2517        450         76        679          0          3   \n",
            "Label:8        172        139        163        810         73        569   \n",
            "Label:9       2158        780         26        589         20         43   \n",
            "\n",
            "         Cluster:6  Cluster:7  Cluster:8  Cluster:9  \n",
            "Label:0         27        508        151          5  \n",
            "Label:1        120         18          1          0  \n",
            "Label:2       1485       1516        904         29  \n",
            "Label:3       2082        671       2260         15  \n",
            "Label:4          2        191          1       1984  \n",
            "Label:5        594       1555        737        104  \n",
            "Label:6        676       2193        132         84  \n",
            "Label:7         18        156          0       2366  \n",
            "Label:8       1809       1605        442         69  \n",
            "Label:9         12        174          7       2140  \n"
          ]
        }
      ]
    },
    {
      "cell_type": "markdown",
      "source": [
        "##Cosine Distance"
      ],
      "metadata": {
        "id": "feT-HDE_suns"
      }
    },
    {
      "cell_type": "code",
      "source": [
        "#Applying our function\n",
        "y_pred = kmeans(X_train_2D,10,1000,'cosine')"
      ],
      "metadata": {
        "id": "LHUF45owsVay"
      },
      "execution_count": 23,
      "outputs": []
    },
    {
      "cell_type": "code",
      "source": [
        "#report=classification_report(y_train, y_pred) #Preparing classification report\n",
        "#print(report)\n",
        "conf_matrix = pd.DataFrame(confusion_matrix(y_train, y_pred), index=['Label:0', 'Label:1','Label:2','Label:3','Label:4', 'Label:5','Label:6','Label:7', 'Label:8','Label:9'], columns=['Cluster:0','Cluster:1', 'Cluster:2', 'Cluster:3','Cluster:4', 'Cluster:5', 'Cluster:6','Cluster:7', 'Cluster:8', 'Cluster:9']) #COnfusion Matrix of each K-fold Step\n",
        "print(conf_matrix)\n",
        "#print('Accuracy:% ',(metrics.accuracy_score(y_train, y_pred)*100))"
      ],
      "metadata": {
        "colab": {
          "base_uri": "https://localhost:8080/"
        },
        "outputId": "145c8c53-ac7e-42c6-9210-2c9c0f09dc5b",
        "id": "nYvR7slNsVaz"
      },
      "execution_count": 24,
      "outputs": [
        {
          "output_type": "stream",
          "name": "stdout",
          "text": [
            "         Cluster:0  Cluster:1  Cluster:2  Cluster:3  Cluster:4  Cluster:5  \\\n",
            "Label:0         19         25         39         23        370         26   \n",
            "Label:1       2617          2          0       4028          2         72   \n",
            "Label:2        376        137        135        617        255       1264   \n",
            "Label:3        389         68         55        655         73       1477   \n",
            "Label:4        298       1857       1959         17        424          4   \n",
            "Label:5        720        283        295        533        384        367   \n",
            "Label:6        504        225        461        694       1239        421   \n",
            "Label:7        507       2555       1211         56        101         11   \n",
            "Label:8        526        199        276       1222        339       1101   \n",
            "Label:9        398       2142       1524         34        252          6   \n",
            "\n",
            "         Cluster:6  Cluster:7  Cluster:8  Cluster:9  \n",
            "Label:0       4271         82         13       1055  \n",
            "Label:1          2          5         12          2  \n",
            "Label:2        859        986        248       1081  \n",
            "Label:3        191       2219        182        822  \n",
            "Label:4         14          2       1265          2  \n",
            "Label:5        669        673        374       1123  \n",
            "Label:6       1184        376        292        522  \n",
            "Label:7          2          4       1817          1  \n",
            "Label:8        541        760        222        665  \n",
            "Label:9         46          7       1515         25  \n"
          ]
        }
      ]
    },
    {
      "cell_type": "code",
      "source": [
        "labels=clusters_to_labels(conf_matrix)\n",
        "labels"
      ],
      "metadata": {
        "colab": {
          "base_uri": "https://localhost:8080/"
        },
        "id": "SEPZgKlXsVa2",
        "outputId": "d61d3474-6f23-4d64-d305-fe5db40a064a"
      },
      "execution_count": 25,
      "outputs": [
        {
          "output_type": "stream",
          "name": "stdout",
          "text": [
            "Cluster 6  = Label 0\n",
            "Cluster 3  = Label 1\n",
            "Cluster 1  = Label 7\n",
            "Cluster 7  = Label 3\n",
            "Cluster 2  = Label 4\n",
            "Cluster 8  = Label 9\n",
            "Cluster 5  = Label 2\n",
            "Cluster 4  = Label 6\n",
            "Cluster 9  = Label 5\n",
            "Cluster 0  = Label 8\n"
          ]
        },
        {
          "output_type": "execute_result",
          "data": {
            "text/plain": [
              "array([8., 7., 4., 1., 6., 2., 0., 3., 9., 5.])"
            ]
          },
          "metadata": {},
          "execution_count": 25
        }
      ]
    },
    {
      "cell_type": "code",
      "source": [
        "y_pred=match_clusters(y_pred,conf_matrix)"
      ],
      "metadata": {
        "colab": {
          "base_uri": "https://localhost:8080/"
        },
        "id": "DTuj9jmvsVa3",
        "outputId": "ec304750-668a-481f-bf92-4c3721180fa2"
      },
      "execution_count": 26,
      "outputs": [
        {
          "output_type": "stream",
          "name": "stdout",
          "text": [
            "Cluster 6  = Label 0\n",
            "Cluster 3  = Label 1\n",
            "Cluster 1  = Label 7\n",
            "Cluster 7  = Label 3\n",
            "Cluster 2  = Label 4\n",
            "Cluster 8  = Label 9\n",
            "Cluster 5  = Label 2\n",
            "Cluster 4  = Label 6\n",
            "Cluster 9  = Label 5\n",
            "Cluster 0  = Label 8\n",
            "[8. 7. 4. 1. 6. 2. 0. 3. 9. 5.]\n"
          ]
        }
      ]
    },
    {
      "cell_type": "code",
      "source": [
        "print('Accuracy:% ',(metrics.accuracy_score(y_train, y_pred)*100))\n",
        "cf = pd.DataFrame(confusion_matrix(y_train, y_pred), index=['Label:0', 'Label:1','Label:2','Label:3','Label:4', 'Label:5','Label:6','Label:7', 'Label:8','Label:9'], columns=['Cluster:0','Cluster:1', 'Cluster:2', 'Cluster:3','Cluster:4', 'Cluster:5', 'Cluster:6','Cluster:7', 'Cluster:8', 'Cluster:9']) #COnfusion Matrix of each K-fold Step\n",
        "print(cf)"
      ],
      "metadata": {
        "colab": {
          "base_uri": "https://localhost:8080/"
        },
        "outputId": "791147a1-09d3-4597-cdb9-45457c31ee13",
        "id": "lHDkSSMlsVa3"
      },
      "execution_count": 27,
      "outputs": [
        {
          "output_type": "stream",
          "name": "stdout",
          "text": [
            "Accuracy:%  5.068333333333333\n",
            "         Cluster:0  Cluster:1  Cluster:2  Cluster:3  Cluster:4  Cluster:5  \\\n",
            "Label:0         19         25         39         23        370         26   \n",
            "Label:1       2616          3          0       4027          2         72   \n",
            "Label:2        376        137        136        617        254       1264   \n",
            "Label:3        389         68         55        656         73       1477   \n",
            "Label:4        298       1855       1959         17        425          5   \n",
            "Label:5        720        283        295        533        384        367   \n",
            "Label:6        504        225        461        694       1239        421   \n",
            "Label:7        507       2555       1211         56        101         11   \n",
            "Label:8        526        199        276       1222        339       1101   \n",
            "Label:9        398       2141       1524         34        252          6   \n",
            "\n",
            "         Cluster:6  Cluster:7  Cluster:8  Cluster:9  \n",
            "Label:0       4270         83         13       1055  \n",
            "Label:1          2          5         12          3  \n",
            "Label:2        859        986        248       1081  \n",
            "Label:3        191       2219        182        821  \n",
            "Label:4         14          2       1265          2  \n",
            "Label:5        669        672        375       1123  \n",
            "Label:6       1184        376        292        522  \n",
            "Label:7          2          4       1817          1  \n",
            "Label:8        541        760        222        665  \n",
            "Label:9         47          7       1515         25  \n"
          ]
        }
      ]
    },
    {
      "cell_type": "markdown",
      "source": [
        "##City Blocks"
      ],
      "metadata": {
        "id": "BBinDOpSsh5y"
      }
    },
    {
      "cell_type": "code",
      "source": [
        "#Applying our function\n",
        "y_pred = kmeans(X_train_2D,10,1000,'cityblock')"
      ],
      "metadata": {
        "id": "G8BOICFMsYng"
      },
      "execution_count": 28,
      "outputs": []
    },
    {
      "cell_type": "code",
      "source": [
        "#report=classification_report(y_train, y_pred) #Preparing classification report\n",
        "#print(report)\n",
        "conf_matrix = pd.DataFrame(confusion_matrix(y_train, y_pred), index=['Label:0', 'Label:1','Label:2','Label:3','Label:4', 'Label:5','Label:6','Label:7', 'Label:8','Label:9'], columns=['Cluster:0','Cluster:1', 'Cluster:2', 'Cluster:3','Cluster:4', 'Cluster:5', 'Cluster:6','Cluster:7', 'Cluster:8', 'Cluster:9']) #COnfusion Matrix of each K-fold Step\n",
        "print(conf_matrix)\n",
        "#print('Accuracy:% ',(metrics.accuracy_score(y_train, y_pred)*100))"
      ],
      "metadata": {
        "colab": {
          "base_uri": "https://localhost:8080/"
        },
        "outputId": "aed423fb-36b6-4851-8cfe-d03eebc33383",
        "id": "43IofmN0sYni"
      },
      "execution_count": 29,
      "outputs": [
        {
          "output_type": "stream",
          "name": "stdout",
          "text": [
            "         Cluster:0  Cluster:1  Cluster:2  Cluster:3  Cluster:4  Cluster:5  \\\n",
            "Label:0          7       1555         19        534         25          9   \n",
            "Label:1          0          1          0          6         65        142   \n",
            "Label:2         63       1362         12        715       1515        286   \n",
            "Label:3         27        530          5        235       2291        219   \n",
            "Label:4       2136          6       1673        383          1       1458   \n",
            "Label:5        174       1114         37        923        492        444   \n",
            "Label:6         94       1065        198       1927        285        196   \n",
            "Label:7       2849          1        932        227          6       1911   \n",
            "Label:8         89        793         64        805       1062        227   \n",
            "Label:9       2415         32       1264        264          3       1679   \n",
            "\n",
            "         Cluster:6  Cluster:7  Cluster:8  Cluster:9  \n",
            "Label:0       3445          4        201        124  \n",
            "Label:1          0       6379          0        149  \n",
            "Label:2        155        251        403       1196  \n",
            "Label:3         43        237       1367       1177  \n",
            "Label:4         12         73          0        100  \n",
            "Label:5        134        188        472       1443  \n",
            "Label:6        242        233         29       1649  \n",
            "Label:7          0        216          0        123  \n",
            "Label:8        118        382        158       2153  \n",
            "Label:9         33        137          2        120  \n"
          ]
        }
      ]
    },
    {
      "cell_type": "code",
      "source": [
        "labels=clusters_to_labels(conf_matrix)\n",
        "labels"
      ],
      "metadata": {
        "colab": {
          "base_uri": "https://localhost:8080/"
        },
        "id": "5z-xZIRzsYnj",
        "outputId": "c1ca42a3-40c1-47d2-f797-013930391cb4"
      },
      "execution_count": 30,
      "outputs": [
        {
          "output_type": "stream",
          "name": "stdout",
          "text": [
            "Cluster 7  = Label 1\n",
            "Cluster 6  = Label 0\n",
            "Cluster 0  = Label 7\n",
            "Cluster 4  = Label 3\n",
            "Cluster 9  = Label 8\n",
            "Cluster 3  = Label 6\n",
            "Cluster 5  = Label 9\n",
            "Cluster 2  = Label 4\n",
            "Cluster 1  = Label 2\n",
            "Cluster 8  = Label 5\n"
          ]
        },
        {
          "output_type": "execute_result",
          "data": {
            "text/plain": [
              "array([7., 2., 4., 6., 3., 9., 0., 1., 5., 8.])"
            ]
          },
          "metadata": {},
          "execution_count": 30
        }
      ]
    },
    {
      "cell_type": "code",
      "source": [
        "y_pred=match_clusters(y_pred,conf_matrix)"
      ],
      "metadata": {
        "colab": {
          "base_uri": "https://localhost:8080/"
        },
        "id": "bvOdFIA_sYnj",
        "outputId": "ed6dfe2d-63db-4d7f-bd5c-802855b23d51"
      },
      "execution_count": 31,
      "outputs": [
        {
          "output_type": "stream",
          "name": "stdout",
          "text": [
            "Cluster 7  = Label 1\n",
            "Cluster 6  = Label 0\n",
            "Cluster 0  = Label 7\n",
            "Cluster 4  = Label 3\n",
            "Cluster 9  = Label 8\n",
            "Cluster 3  = Label 6\n",
            "Cluster 5  = Label 9\n",
            "Cluster 2  = Label 4\n",
            "Cluster 1  = Label 2\n",
            "Cluster 8  = Label 5\n",
            "[7. 2. 4. 6. 3. 9. 0. 1. 5. 8.]\n"
          ]
        }
      ]
    },
    {
      "cell_type": "code",
      "source": [
        "print('Accuracy:% ',(metrics.accuracy_score(y_train, y_pred)*100))\n",
        "cf = pd.DataFrame(confusion_matrix(y_train, y_pred), index=['Label:0', 'Label:1','Label:2','Label:3','Label:4', 'Label:5','Label:6','Label:7', 'Label:8','Label:9'], columns=['Cluster:0','Cluster:1', 'Cluster:2', 'Cluster:3','Cluster:4', 'Cluster:5', 'Cluster:6','Cluster:7', 'Cluster:8', 'Cluster:9']) #COnfusion Matrix of each K-fold Step\n",
        "print(cf)"
      ],
      "metadata": {
        "colab": {
          "base_uri": "https://localhost:8080/"
        },
        "outputId": "dc943744-9985-4cb3-9367-3e1aeac0ebb4",
        "id": "HeyE78pcsYnk"
      },
      "execution_count": 32,
      "outputs": [
        {
          "output_type": "stream",
          "name": "stdout",
          "text": [
            "Accuracy:%  2.395\n",
            "         Cluster:0  Cluster:1  Cluster:2  Cluster:3  Cluster:4  Cluster:5  \\\n",
            "Label:0          7       1555         20        534         25          9   \n",
            "Label:1          1          1          0          6         65        143   \n",
            "Label:2         63       1362         12        714       1515        286   \n",
            "Label:3         27        530          5        235       2291        219   \n",
            "Label:4       2135          6       1673        383          2       1457   \n",
            "Label:5        174       1114         37        923        491        444   \n",
            "Label:6         94       1065        198       1927        285        196   \n",
            "Label:7       2849          1        932        227          6       1911   \n",
            "Label:8         89        793         64        805       1062        227   \n",
            "Label:9       2414         32       1264        265          3       1679   \n",
            "\n",
            "         Cluster:6  Cluster:7  Cluster:8  Cluster:9  \n",
            "Label:0       3444          4        201        124  \n",
            "Label:1          1       6376          0        149  \n",
            "Label:2        155        251        403       1197  \n",
            "Label:3         43        237       1367       1177  \n",
            "Label:4         12         73          1        100  \n",
            "Label:5        134        189        472       1443  \n",
            "Label:6        242        233         29       1649  \n",
            "Label:7          0        216          0        123  \n",
            "Label:8        118        382        158       2153  \n",
            "Label:9         33        137          2        120  \n"
          ]
        }
      ]
    },
    {
      "cell_type": "markdown",
      "source": [
        "## Comment"
      ],
      "metadata": {
        "id": "P4ZxGbLAzt7u"
      }
    },
    {
      "cell_type": "markdown",
      "source": [
        "Highest Accuracy of KMeans algorithm has achieved with Euclidean Distance for this problem"
      ],
      "metadata": {
        "id": "Fjx_RRkkzvmQ"
      }
    }
  ],
  "metadata": {
    "colab": {
      "collapsed_sections": [],
      "name": "HW4_Ozcan_Baris_215008003003_code_V0.ipynb",
      "provenance": []
    },
    "kernelspec": {
      "display_name": "Python 3",
      "name": "python3"
    },
    "language_info": {
      "name": "python"
    }
  },
  "nbformat": 4,
  "nbformat_minor": 0
}